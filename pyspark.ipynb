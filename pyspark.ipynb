{
 "cells": [
  {
   "cell_type": "code",
   "execution_count": null,
   "metadata": {
    "id": "iPFvpuzEpOwd"
   },
   "outputs": [],
   "source": [
    "!apt-get install openjdk-8-jdk-headless -qq > /dev/null\n",
    "!wget -q http://archive.apache.org/dist/spark/spark-3.1.1/spark-3.1.1-bin-hadoop3.2.tgz\n",
    "!tar xf spark-3.1.1-bin-hadoop3.2.tgz\n",
    "!pip install -q findspark"
   ]
  },
  {
   "cell_type": "code",
   "execution_count": null,
   "metadata": {
    "id": "zgeQwJzkpW-n"
   },
   "outputs": [],
   "source": [
    "import os\n",
    "os.environ[\"JAVA_HOME\"] = \"/usr/lib/jvm/java-8-openjdk-amd64\"\n",
    "os.environ[\"SPARK_HOME\"] = \"/content/spark-3.1.1-bin-hadoop3.2\""
   ]
  },
  {
   "cell_type": "code",
   "execution_count": null,
   "metadata": {
    "id": "vAg_QyktpZqs"
   },
   "outputs": [],
   "source": [
    "import findspark\n",
    "findspark.init()\n",
    "from pyspark.sql import SparkSession\n",
    "from pyspark import SparkContext\n",
    "spark = SparkSession.builder.appName('deeplearn').getOrCreate()"
   ]
  },
  {
   "cell_type": "code",
   "execution_count": null,
   "metadata": {
    "colab": {
     "base_uri": "https://localhost:8080/"
    },
    "id": "jeeTL7c6sSwS",
    "outputId": "5c56cf3b-23cb-4181-bdce-a2d9e442e1d7"
   },
   "outputs": [
    {
     "name": "stdout",
     "output_type": "stream",
     "text": [
      "--2024-02-05 04:59:06--  https://raw.githubusercontent.com/neelamdoshi/Spark_neelam/main/diabetes.csv\n",
      "Resolving raw.githubusercontent.com (raw.githubusercontent.com)... 185.199.108.133, 185.199.109.133, 185.199.110.133, ...\n",
      "Connecting to raw.githubusercontent.com (raw.githubusercontent.com)|185.199.108.133|:443... connected.\n",
      "HTTP request sent, awaiting response... 200 OK\n",
      "Length: 23875 (23K) [text/plain]\n",
      "Saving to: ‘diabetes.csv’\n",
      "\n",
      "\r",
      "diabetes.csv          0%[                    ]       0  --.-KB/s               \r",
      "diabetes.csv        100%[===================>]  23.32K  --.-KB/s    in 0.002s  \n",
      "\n",
      "2024-02-05 04:59:06 (9.76 MB/s) - ‘diabetes.csv’ saved [23875/23875]\n",
      "\n"
     ]
    }
   ],
   "source": [
    "!wget https://raw.githubusercontent.com/neelamdoshi/Spark_neelam/main/diabetes.csv"
   ]
  },
  {
   "cell_type": "code",
   "execution_count": null,
   "metadata": {
    "colab": {
     "base_uri": "https://localhost:8080/"
    },
    "id": "ssPhuyybsUNu",
    "outputId": "e34aad0a-382c-4094-d014-73da434484ba"
   },
   "outputs": [
    {
     "name": "stdout",
     "output_type": "stream",
     "text": [
      "root\n",
      " |-- Pregnancies: string (nullable = true)\n",
      " |-- Glucose: string (nullable = true)\n",
      " |-- BloodPressure: string (nullable = true)\n",
      " |-- SkinThickness: string (nullable = true)\n",
      " |-- Insulin: string (nullable = true)\n",
      " |-- BMI: string (nullable = true)\n",
      " |-- DiabetesPedigreeFunction: string (nullable = true)\n",
      " |-- Age: string (nullable = true)\n",
      " |-- Outcome: string (nullable = true)\n",
      "\n"
     ]
    }
   ],
   "source": [
    "# read a csv file\n",
    "my_data = spark.read.csv('diabetes.csv',header=True)\n",
    "\n",
    "# see the default schema of the dataframe\n",
    "my_data.printSchema()"
   ]
  },
  {
   "cell_type": "code",
   "execution_count": null,
   "metadata": {
    "colab": {
     "base_uri": "https://localhost:8080/"
    },
    "id": "ZVhEKh7nsfao",
    "outputId": "7dbce233-f861-404c-8e5f-bea8116d4079"
   },
   "outputs": [
    {
     "name": "stdout",
     "output_type": "stream",
     "text": [
      "root\n",
      " |-- Pregnancies: integer (nullable = true)\n",
      " |-- Glucose: integer (nullable = true)\n",
      " |-- BloodPressure: integer (nullable = true)\n",
      " |-- SkinThickness: integer (nullable = true)\n",
      " |-- Insulin: integer (nullable = true)\n",
      " |-- BMI: double (nullable = true)\n",
      " |-- DiabetesPedigreeFunction: double (nullable = true)\n",
      " |-- Age: integer (nullable = true)\n",
      " |-- Outcome: integer (nullable = true)\n",
      "\n"
     ]
    }
   ],
   "source": [
    "import pyspark.sql.types as tp\n",
    "\n",
    "# define the schema\n",
    "my_schema = tp.StructType([\n",
    "    tp.StructField(name= 'Pregnancies', dataType= tp.IntegerType(),   nullable= True),\n",
    "    tp.StructField(name= 'Glucose', dataType= tp.IntegerType(),    nullable= True),\n",
    "    tp.StructField(name= 'BloodPressure',       dataType= tp.IntegerType(),   nullable= True),\n",
    "    tp.StructField(name= 'SkinThickness',  dataType= tp.IntegerType(),    nullable= True),\n",
    "    tp.StructField(name= 'Insulin',   dataType= tp.IntegerType(),    nullable= True),\n",
    "    tp.StructField(name= 'BMI',       dataType= tp.DoubleType(),    nullable= True),\n",
    "    tp.StructField(name= 'DiabetesPedigreeFunction',    dataType= tp.DoubleType(),   nullable= True),\n",
    "    tp.StructField(name= 'Age',           dataType= tp.IntegerType(),   nullable= True),\n",
    "    tp.StructField(name= 'Outcome',       dataType= tp.IntegerType(),   nullable= True)\n",
    "])\n",
    "\n",
    "# read the data again with the defined schema\n",
    "my_data = spark.read.csv('diabetes.csv',schema= my_schema,header= True)\n",
    "\n",
    "# print the schema\n",
    "my_data.printSchema()"
   ]
  },
  {
   "cell_type": "code",
   "execution_count": null,
   "metadata": {
    "colab": {
     "base_uri": "https://localhost:8080/"
    },
    "id": "GA5FSMePtVEJ",
    "outputId": "6f760622-2116-4271-a1ae-1a1a04413999"
   },
   "outputs": [
    {
     "data": {
      "text/plain": [
       "(768, 9)"
      ]
     },
     "execution_count": 8,
     "metadata": {},
     "output_type": "execute_result"
    }
   ],
   "source": [
    "# get the dimensions of the data\n",
    "(my_data.count() , len(my_data.columns))\n"
   ]
  },
  {
   "cell_type": "code",
   "execution_count": null,
   "metadata": {
    "colab": {
     "base_uri": "https://localhost:8080/"
    },
    "id": "Yzwv6_l_p06X",
    "outputId": "cc7b49b9-ffec-4229-c253-bcdb20dd33da"
   },
   "outputs": [
    {
     "data": {
      "text/plain": [
       "Row(Pregnancies=6, Glucose=148, BloodPressure=72, SkinThickness=35, Insulin=0, BMI=33.6, DiabetesPedigreeFunction=0.627, Age=50, Outcome=1)"
      ]
     },
     "execution_count": 10,
     "metadata": {},
     "output_type": "execute_result"
    }
   ],
   "source": [
    "my_data.head()"
   ]
  },
  {
   "cell_type": "code",
   "execution_count": null,
   "metadata": {
    "id": "C3pH1wkA5bo2"
   },
   "outputs": [],
   "source": [
    "from pyspark.ml.feature import Imputer\n",
    "imputer = Imputer(\n",
    "    inputCols=my_data.columns,\n",
    "    outputCols=[\"{}_imputed\".format(c) for c in my_data.columns]\n",
    "    ).setStrategy(\"median\")\n",
    "\n",
    "\n",
    "my_data1 = imputer.fit(my_data).transform(my_data)"
   ]
  },
  {
   "cell_type": "code",
   "execution_count": null,
   "metadata": {
    "colab": {
     "base_uri": "https://localhost:8080/"
    },
    "id": "Dxl-wDyYrz-n",
    "outputId": "10e45d19-6de7-4790-8979-f1c9c258e0c1"
   },
   "outputs": [
    {
     "data": {
      "text/plain": [
       "[Row(Pregnancies=6, Glucose=148, BloodPressure=72, SkinThickness=35, Insulin=0, BMI=33.6, DiabetesPedigreeFunction=0.627, Age=50, Outcome=1, Glucose_imputed=148, SkinThickness_imputed=35, BloodPressure_imputed=72, Outcome_imputed=1, Insulin_imputed=0, BMI_imputed=33.6, Pregnancies_imputed=6, DiabetesPedigreeFunction_imputed=0.627, Age_imputed=50),\n",
       " Row(Pregnancies=1, Glucose=85, BloodPressure=66, SkinThickness=29, Insulin=0, BMI=26.6, DiabetesPedigreeFunction=0.351, Age=31, Outcome=0, Glucose_imputed=85, SkinThickness_imputed=29, BloodPressure_imputed=66, Outcome_imputed=0, Insulin_imputed=0, BMI_imputed=26.6, Pregnancies_imputed=1, DiabetesPedigreeFunction_imputed=0.351, Age_imputed=31),\n",
       " Row(Pregnancies=8, Glucose=183, BloodPressure=64, SkinThickness=0, Insulin=0, BMI=23.3, DiabetesPedigreeFunction=0.672, Age=32, Outcome=1, Glucose_imputed=183, SkinThickness_imputed=0, BloodPressure_imputed=64, Outcome_imputed=1, Insulin_imputed=0, BMI_imputed=23.3, Pregnancies_imputed=8, DiabetesPedigreeFunction_imputed=0.672, Age_imputed=32),\n",
       " Row(Pregnancies=1, Glucose=89, BloodPressure=66, SkinThickness=23, Insulin=94, BMI=28.1, DiabetesPedigreeFunction=0.167, Age=21, Outcome=0, Glucose_imputed=89, SkinThickness_imputed=23, BloodPressure_imputed=66, Outcome_imputed=0, Insulin_imputed=94, BMI_imputed=28.1, Pregnancies_imputed=1, DiabetesPedigreeFunction_imputed=0.167, Age_imputed=21),\n",
       " Row(Pregnancies=0, Glucose=137, BloodPressure=40, SkinThickness=35, Insulin=168, BMI=43.1, DiabetesPedigreeFunction=2.288, Age=33, Outcome=1, Glucose_imputed=137, SkinThickness_imputed=35, BloodPressure_imputed=40, Outcome_imputed=1, Insulin_imputed=168, BMI_imputed=43.1, Pregnancies_imputed=0, DiabetesPedigreeFunction_imputed=2.288, Age_imputed=33),\n",
       " Row(Pregnancies=5, Glucose=116, BloodPressure=74, SkinThickness=0, Insulin=0, BMI=25.6, DiabetesPedigreeFunction=0.201, Age=30, Outcome=0, Glucose_imputed=116, SkinThickness_imputed=0, BloodPressure_imputed=74, Outcome_imputed=0, Insulin_imputed=0, BMI_imputed=25.6, Pregnancies_imputed=5, DiabetesPedigreeFunction_imputed=0.201, Age_imputed=30),\n",
       " Row(Pregnancies=3, Glucose=78, BloodPressure=50, SkinThickness=32, Insulin=88, BMI=31.0, DiabetesPedigreeFunction=0.248, Age=26, Outcome=1, Glucose_imputed=78, SkinThickness_imputed=32, BloodPressure_imputed=50, Outcome_imputed=1, Insulin_imputed=88, BMI_imputed=31.0, Pregnancies_imputed=3, DiabetesPedigreeFunction_imputed=0.248, Age_imputed=26),\n",
       " Row(Pregnancies=10, Glucose=115, BloodPressure=0, SkinThickness=0, Insulin=0, BMI=35.3, DiabetesPedigreeFunction=0.134, Age=29, Outcome=0, Glucose_imputed=115, SkinThickness_imputed=0, BloodPressure_imputed=0, Outcome_imputed=0, Insulin_imputed=0, BMI_imputed=35.3, Pregnancies_imputed=10, DiabetesPedigreeFunction_imputed=0.134, Age_imputed=29),\n",
       " Row(Pregnancies=2, Glucose=197, BloodPressure=70, SkinThickness=45, Insulin=543, BMI=30.5, DiabetesPedigreeFunction=0.158, Age=53, Outcome=1, Glucose_imputed=197, SkinThickness_imputed=45, BloodPressure_imputed=70, Outcome_imputed=1, Insulin_imputed=543, BMI_imputed=30.5, Pregnancies_imputed=2, DiabetesPedigreeFunction_imputed=0.158, Age_imputed=53),\n",
       " Row(Pregnancies=8, Glucose=125, BloodPressure=96, SkinThickness=0, Insulin=0, BMI=0.0, DiabetesPedigreeFunction=0.232, Age=54, Outcome=1, Glucose_imputed=125, SkinThickness_imputed=0, BloodPressure_imputed=96, Outcome_imputed=1, Insulin_imputed=0, BMI_imputed=0.0, Pregnancies_imputed=8, DiabetesPedigreeFunction_imputed=0.232, Age_imputed=54)]"
      ]
     },
     "execution_count": 13,
     "metadata": {},
     "output_type": "execute_result"
    }
   ],
   "source": [
    "my_data1.head(10)"
   ]
  },
  {
   "cell_type": "code",
   "execution_count": null,
   "metadata": {
    "colab": {
     "base_uri": "https://localhost:8080/"
    },
    "id": "Cc1gO9rBu-ho",
    "outputId": "212ac319-f69b-4803-bf6f-ee49bd2e9201"
   },
   "outputs": [
    {
     "name": "stdout",
     "output_type": "stream",
     "text": [
      "+--------------------+-------+\n",
      "|            features|Outcome|\n",
      "+--------------------+-------+\n",
      "|[6.0,148.0,72.0,3...|      1|\n",
      "|[1.0,85.0,66.0,29...|      0|\n",
      "|[8.0,183.0,64.0,0...|      1|\n",
      "|[1.0,89.0,66.0,23...|      0|\n",
      "|[0.0,137.0,40.0,3...|      1|\n",
      "+--------------------+-------+\n",
      "only showing top 5 rows\n",
      "\n"
     ]
    }
   ],
   "source": [
    "from pyspark.ml.feature import VectorAssembler\n",
    "\n",
    "# specify the input and output columns of the vector assembler\n",
    "assembler = VectorAssembler(inputCols=['Pregnancies',\n",
    "                                       'Glucose',\n",
    "                                       'BloodPressure',\n",
    "                                       'SkinThickness',\n",
    "                                       'Insulin',\n",
    "                                       'BMI',\n",
    "                                       'DiabetesPedigreeFunction',\n",
    "                                       'Age'],\n",
    "                           outputCol='features')\n",
    "\n",
    "\n",
    "# transform the data\n",
    "final_data = assembler.transform(my_data1)\n",
    "\n",
    "# view the transformed vector\n",
    "\n",
    "final_data.select(\"features\",\"Outcome\").show(5)"
   ]
  },
  {
   "cell_type": "code",
   "execution_count": null,
   "metadata": {
    "id": "Wd6_Jb0dvJjf"
   },
   "outputs": [],
   "source": [
    "from pyspark.ml.classification import LogisticRegression\n",
    "xtrain, xtest = final_data.randomSplit([0.7, 0.3])\n"
   ]
  },
  {
   "cell_type": "code",
   "execution_count": null,
   "metadata": {
    "id": "PGCnHlxWDPiL"
   },
   "outputs": [],
   "source": [
    "lr = LogisticRegression(featuresCol = 'features', labelCol = 'Outcome', maxIter=10)"
   ]
  },
  {
   "cell_type": "code",
   "execution_count": null,
   "metadata": {
    "id": "R-ORHmDZbsHf"
   },
   "outputs": [],
   "source": []
  },
  {
   "cell_type": "code",
   "execution_count": null,
   "metadata": {
    "id": "_owzZtD9Dz5u"
   },
   "outputs": [],
   "source": [
    "lrModel = lr.fit(xtrain)"
   ]
  },
  {
   "cell_type": "code",
   "execution_count": null,
   "metadata": {
    "id": "GBx2sqGFF_hG"
   },
   "outputs": [],
   "source": [
    "predictions = lrModel.transform(xtest)"
   ]
  },
  {
   "cell_type": "code",
   "execution_count": null,
   "metadata": {
    "colab": {
     "base_uri": "https://localhost:8080/"
    },
    "id": "fo2h6fi_GN_x",
    "outputId": "2a047db2-81bc-4381-ab25-1121b8a409b2"
   },
   "outputs": [
    {
     "name": "stdout",
     "output_type": "stream",
     "text": [
      "+-----------+-------+-------------+-------------+-------+----+------------------------+---+-------+--------------------+--------------------+--------------------+----------+\n",
      "|Pregnancies|Glucose|BloodPressure|SkinThickness|Insulin| BMI|DiabetesPedigreeFunction|Age|Outcome|            features|       rawPrediction|         probability|prediction|\n",
      "+-----------+-------+-------------+-------------+-------+----+------------------------+---+-------+--------------------+--------------------+--------------------+----------+\n",
      "|          0|     78|           88|           29|     40|36.9|                   0.434| 21|      0|[0.0,78.0,88.0,29...|[3.19015991237759...|[0.96046229348500...|       0.0|\n",
      "|          0|     91|           68|           32|    210|39.9|                   0.381| 25|      0|[0.0,91.0,68.0,32...|[2.47009025333634...|[0.92201825438620...|       0.0|\n",
      "|          0|     93|           60|            0|      0|35.3|                   0.263| 25|      0|[0.0,93.0,60.0,0....|[2.50379464763058...|[0.92440741110133...|       0.0|\n",
      "|          0|     94|           70|           27|    115|43.5|                   0.347| 21|      0|[0.0,94.0,70.0,27...|[1.93725393975072...|[0.87405014974985...|       0.0|\n",
      "|          0|     95|           64|           39|    105|44.6|                   0.366| 22|      0|[0.0,95.0,64.0,39...|[1.62336733684702...|[0.83525900331854...|       0.0|\n",
      "+-----------+-------+-------------+-------------+-------+----+------------------------+---+-------+--------------------+--------------------+--------------------+----------+\n",
      "only showing top 5 rows\n",
      "\n"
     ]
    }
   ],
   "source": [
    "predictions.show(5)"
   ]
  },
  {
   "cell_type": "code",
   "execution_count": null,
   "metadata": {
    "colab": {
     "base_uri": "https://localhost:8080/"
    },
    "id": "AAYxiknRGQ-r",
    "outputId": "ae67fe08-fc76-4705-861d-a457b9fb19f0"
   },
   "outputs": [
    {
     "data": {
      "text/plain": [
       "MulticlassClassificationEvaluator_adbee31a16e0"
      ]
     },
     "execution_count": 81,
     "metadata": {},
     "output_type": "execute_result"
    }
   ],
   "source": [
    "from pyspark.ml.evaluation import MulticlassClassificationEvaluator\n",
    "evaluator = MulticlassClassificationEvaluator()\n",
    "evaluator.setLabelCol(\"Outcome\")"
   ]
  },
  {
   "cell_type": "code",
   "execution_count": null,
   "metadata": {
    "colab": {
     "base_uri": "https://localhost:8080/"
    },
    "id": "K9oDD4QfGgFD",
    "outputId": "4f13f743-0ef8-4595-d07f-ca727d73f3e1"
   },
   "outputs": [
    {
     "data": {
      "text/plain": [
       "MulticlassClassificationEvaluator_adbee31a16e0"
      ]
     },
     "execution_count": 82,
     "metadata": {},
     "output_type": "execute_result"
    }
   ],
   "source": [
    "evaluator.setPredictionCol(\"prediction\")"
   ]
  },
  {
   "cell_type": "code",
   "execution_count": null,
   "metadata": {
    "colab": {
     "base_uri": "https://localhost:8080/"
    },
    "id": "Ey6ADVZ-Glu6",
    "outputId": "f18ec1d1-1093-4241-bae4-79432a023178"
   },
   "outputs": [
    {
     "data": {
      "text/plain": [
       "0.7372298608253991"
      ]
     },
     "execution_count": 83,
     "metadata": {},
     "output_type": "execute_result"
    }
   ],
   "source": [
    "evaluator.evaluate(predictions)"
   ]
  },
  {
   "cell_type": "code",
   "execution_count": null,
   "metadata": {
    "id": "j1vUfzhOGosB"
   },
   "outputs": [],
   "source": []
  }
 ],
 "metadata": {
  "colab": {
   "provenance": []
  },
  "kernelspec": {
   "display_name": "Python 3 (ipykernel)",
   "language": "python",
   "name": "python3"
  },
  "language_info": {
   "codemirror_mode": {
    "name": "ipython",
    "version": 3
   },
   "file_extension": ".py",
   "mimetype": "text/x-python",
   "name": "python",
   "nbconvert_exporter": "python",
   "pygments_lexer": "ipython3",
   "version": "3.9.7"
  }
 },
 "nbformat": 4,
 "nbformat_minor": 1
}
